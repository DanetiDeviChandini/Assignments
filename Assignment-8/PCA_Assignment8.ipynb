{
  "nbformat": 4,
  "nbformat_minor": 0,
  "metadata": {
    "colab": {
      "provenance": []
    },
    "kernelspec": {
      "name": "python3",
      "display_name": "Python 3"
    },
    "language_info": {
      "name": "python"
    }
  },
  "cells": [
    {
      "cell_type": "code",
      "execution_count": 1,
      "metadata": {
        "id": "rHAPRlaDORhB"
      },
      "outputs": [],
      "source": [
        "# Importing Libraries\n",
        "import pandas as pd \n",
        "import numpy as np\n",
        "import matplotlib.pyplot as plt\n",
        "from sklearn.decomposition import PCA\n",
        "from sklearn.preprocessing import scale "
      ]
    },
    {
      "cell_type": "code",
      "source": [
        "# Loading dataset and Renaming the columns based on their features.\n",
        "\n",
        "columns = ['class','alcohol', 'malic_acid', 'ash', 'alcalinity_of_ash', 'magnesium',\n",
        "    'total_phenols', 'flavanoids', 'nonflavanoid_phenols',\n",
        "    'proanthocyanins', 'color_intensity', 'hue',\n",
        "    'dilution_of_wines', 'proline']\n",
        "\n",
        "df = pd.read_csv('wine.csv', names=columns, header=0)\n",
        "df.head() "
      ],
      "metadata": {
        "id": "qYuBnwD4OU2p",
        "colab": {
          "base_uri": "https://localhost:8080/",
          "height": 270
        },
        "outputId": "cc721061-3c4a-4b51-8385-20748726d3ba"
      },
      "execution_count": 2,
      "outputs": [
        {
          "output_type": "execute_result",
          "data": {
            "text/plain": [
              "   class  alcohol  malic_acid   ash  alcalinity_of_ash  magnesium  \\\n",
              "0      1    14.23        1.71  2.43               15.6        127   \n",
              "1      1    13.20        1.78  2.14               11.2        100   \n",
              "2      1    13.16        2.36  2.67               18.6        101   \n",
              "3      1    14.37        1.95  2.50               16.8        113   \n",
              "4      1    13.24        2.59  2.87               21.0        118   \n",
              "\n",
              "   total_phenols  flavanoids  nonflavanoid_phenols  proanthocyanins  \\\n",
              "0           2.80        3.06                  0.28             2.29   \n",
              "1           2.65        2.76                  0.26             1.28   \n",
              "2           2.80        3.24                  0.30             2.81   \n",
              "3           3.85        3.49                  0.24             2.18   \n",
              "4           2.80        2.69                  0.39             1.82   \n",
              "\n",
              "   color_intensity   hue  dilution_of_wines  proline  \n",
              "0             5.64  1.04               3.92     1065  \n",
              "1             4.38  1.05               3.40     1050  \n",
              "2             5.68  1.03               3.17     1185  \n",
              "3             7.80  0.86               3.45     1480  \n",
              "4             4.32  1.04               2.93      735  "
            ],
            "text/html": [
              "\n",
              "  <div id=\"df-7851fa1f-1583-418a-a498-1e5a0adcbca1\">\n",
              "    <div class=\"colab-df-container\">\n",
              "      <div>\n",
              "<style scoped>\n",
              "    .dataframe tbody tr th:only-of-type {\n",
              "        vertical-align: middle;\n",
              "    }\n",
              "\n",
              "    .dataframe tbody tr th {\n",
              "        vertical-align: top;\n",
              "    }\n",
              "\n",
              "    .dataframe thead th {\n",
              "        text-align: right;\n",
              "    }\n",
              "</style>\n",
              "<table border=\"1\" class=\"dataframe\">\n",
              "  <thead>\n",
              "    <tr style=\"text-align: right;\">\n",
              "      <th></th>\n",
              "      <th>class</th>\n",
              "      <th>alcohol</th>\n",
              "      <th>malic_acid</th>\n",
              "      <th>ash</th>\n",
              "      <th>alcalinity_of_ash</th>\n",
              "      <th>magnesium</th>\n",
              "      <th>total_phenols</th>\n",
              "      <th>flavanoids</th>\n",
              "      <th>nonflavanoid_phenols</th>\n",
              "      <th>proanthocyanins</th>\n",
              "      <th>color_intensity</th>\n",
              "      <th>hue</th>\n",
              "      <th>dilution_of_wines</th>\n",
              "      <th>proline</th>\n",
              "    </tr>\n",
              "  </thead>\n",
              "  <tbody>\n",
              "    <tr>\n",
              "      <th>0</th>\n",
              "      <td>1</td>\n",
              "      <td>14.23</td>\n",
              "      <td>1.71</td>\n",
              "      <td>2.43</td>\n",
              "      <td>15.6</td>\n",
              "      <td>127</td>\n",
              "      <td>2.80</td>\n",
              "      <td>3.06</td>\n",
              "      <td>0.28</td>\n",
              "      <td>2.29</td>\n",
              "      <td>5.64</td>\n",
              "      <td>1.04</td>\n",
              "      <td>3.92</td>\n",
              "      <td>1065</td>\n",
              "    </tr>\n",
              "    <tr>\n",
              "      <th>1</th>\n",
              "      <td>1</td>\n",
              "      <td>13.20</td>\n",
              "      <td>1.78</td>\n",
              "      <td>2.14</td>\n",
              "      <td>11.2</td>\n",
              "      <td>100</td>\n",
              "      <td>2.65</td>\n",
              "      <td>2.76</td>\n",
              "      <td>0.26</td>\n",
              "      <td>1.28</td>\n",
              "      <td>4.38</td>\n",
              "      <td>1.05</td>\n",
              "      <td>3.40</td>\n",
              "      <td>1050</td>\n",
              "    </tr>\n",
              "    <tr>\n",
              "      <th>2</th>\n",
              "      <td>1</td>\n",
              "      <td>13.16</td>\n",
              "      <td>2.36</td>\n",
              "      <td>2.67</td>\n",
              "      <td>18.6</td>\n",
              "      <td>101</td>\n",
              "      <td>2.80</td>\n",
              "      <td>3.24</td>\n",
              "      <td>0.30</td>\n",
              "      <td>2.81</td>\n",
              "      <td>5.68</td>\n",
              "      <td>1.03</td>\n",
              "      <td>3.17</td>\n",
              "      <td>1185</td>\n",
              "    </tr>\n",
              "    <tr>\n",
              "      <th>3</th>\n",
              "      <td>1</td>\n",
              "      <td>14.37</td>\n",
              "      <td>1.95</td>\n",
              "      <td>2.50</td>\n",
              "      <td>16.8</td>\n",
              "      <td>113</td>\n",
              "      <td>3.85</td>\n",
              "      <td>3.49</td>\n",
              "      <td>0.24</td>\n",
              "      <td>2.18</td>\n",
              "      <td>7.80</td>\n",
              "      <td>0.86</td>\n",
              "      <td>3.45</td>\n",
              "      <td>1480</td>\n",
              "    </tr>\n",
              "    <tr>\n",
              "      <th>4</th>\n",
              "      <td>1</td>\n",
              "      <td>13.24</td>\n",
              "      <td>2.59</td>\n",
              "      <td>2.87</td>\n",
              "      <td>21.0</td>\n",
              "      <td>118</td>\n",
              "      <td>2.80</td>\n",
              "      <td>2.69</td>\n",
              "      <td>0.39</td>\n",
              "      <td>1.82</td>\n",
              "      <td>4.32</td>\n",
              "      <td>1.04</td>\n",
              "      <td>2.93</td>\n",
              "      <td>735</td>\n",
              "    </tr>\n",
              "  </tbody>\n",
              "</table>\n",
              "</div>\n",
              "      <button class=\"colab-df-convert\" onclick=\"convertToInteractive('df-7851fa1f-1583-418a-a498-1e5a0adcbca1')\"\n",
              "              title=\"Convert this dataframe to an interactive table.\"\n",
              "              style=\"display:none;\">\n",
              "        \n",
              "  <svg xmlns=\"http://www.w3.org/2000/svg\" height=\"24px\"viewBox=\"0 0 24 24\"\n",
              "       width=\"24px\">\n",
              "    <path d=\"M0 0h24v24H0V0z\" fill=\"none\"/>\n",
              "    <path d=\"M18.56 5.44l.94 2.06.94-2.06 2.06-.94-2.06-.94-.94-2.06-.94 2.06-2.06.94zm-11 1L8.5 8.5l.94-2.06 2.06-.94-2.06-.94L8.5 2.5l-.94 2.06-2.06.94zm10 10l.94 2.06.94-2.06 2.06-.94-2.06-.94-.94-2.06-.94 2.06-2.06.94z\"/><path d=\"M17.41 7.96l-1.37-1.37c-.4-.4-.92-.59-1.43-.59-.52 0-1.04.2-1.43.59L10.3 9.45l-7.72 7.72c-.78.78-.78 2.05 0 2.83L4 21.41c.39.39.9.59 1.41.59.51 0 1.02-.2 1.41-.59l7.78-7.78 2.81-2.81c.8-.78.8-2.07 0-2.86zM5.41 20L4 18.59l7.72-7.72 1.47 1.35L5.41 20z\"/>\n",
              "  </svg>\n",
              "      </button>\n",
              "      \n",
              "  <style>\n",
              "    .colab-df-container {\n",
              "      display:flex;\n",
              "      flex-wrap:wrap;\n",
              "      gap: 12px;\n",
              "    }\n",
              "\n",
              "    .colab-df-convert {\n",
              "      background-color: #E8F0FE;\n",
              "      border: none;\n",
              "      border-radius: 50%;\n",
              "      cursor: pointer;\n",
              "      display: none;\n",
              "      fill: #1967D2;\n",
              "      height: 32px;\n",
              "      padding: 0 0 0 0;\n",
              "      width: 32px;\n",
              "    }\n",
              "\n",
              "    .colab-df-convert:hover {\n",
              "      background-color: #E2EBFA;\n",
              "      box-shadow: 0px 1px 2px rgba(60, 64, 67, 0.3), 0px 1px 3px 1px rgba(60, 64, 67, 0.15);\n",
              "      fill: #174EA6;\n",
              "    }\n",
              "\n",
              "    [theme=dark] .colab-df-convert {\n",
              "      background-color: #3B4455;\n",
              "      fill: #D2E3FC;\n",
              "    }\n",
              "\n",
              "    [theme=dark] .colab-df-convert:hover {\n",
              "      background-color: #434B5C;\n",
              "      box-shadow: 0px 1px 3px 1px rgba(0, 0, 0, 0.15);\n",
              "      filter: drop-shadow(0px 1px 2px rgba(0, 0, 0, 0.3));\n",
              "      fill: #FFFFFF;\n",
              "    }\n",
              "  </style>\n",
              "\n",
              "      <script>\n",
              "        const buttonEl =\n",
              "          document.querySelector('#df-7851fa1f-1583-418a-a498-1e5a0adcbca1 button.colab-df-convert');\n",
              "        buttonEl.style.display =\n",
              "          google.colab.kernel.accessAllowed ? 'block' : 'none';\n",
              "\n",
              "        async function convertToInteractive(key) {\n",
              "          const element = document.querySelector('#df-7851fa1f-1583-418a-a498-1e5a0adcbca1');\n",
              "          const dataTable =\n",
              "            await google.colab.kernel.invokeFunction('convertToInteractive',\n",
              "                                                     [key], {});\n",
              "          if (!dataTable) return;\n",
              "\n",
              "          const docLinkHtml = 'Like what you see? Visit the ' +\n",
              "            '<a target=\"_blank\" href=https://colab.research.google.com/notebooks/data_table.ipynb>data table notebook</a>'\n",
              "            + ' to learn more about interactive tables.';\n",
              "          element.innerHTML = '';\n",
              "          dataTable['output_type'] = 'display_data';\n",
              "          await google.colab.output.renderOutput(dataTable, element);\n",
              "          const docLink = document.createElement('div');\n",
              "          docLink.innerHTML = docLinkHtml;\n",
              "          element.appendChild(docLink);\n",
              "        }\n",
              "      </script>\n",
              "    </div>\n",
              "  </div>\n",
              "  "
            ]
          },
          "metadata": {},
          "execution_count": 2
        }
      ]
    },
    {
      "cell_type": "code",
      "source": [
        "df.info() "
      ],
      "metadata": {
        "id": "f0bgutFZOtOh",
        "colab": {
          "base_uri": "https://localhost:8080/"
        },
        "outputId": "2d7c4a61-81ba-4b13-f890-fcb598967b93"
      },
      "execution_count": 3,
      "outputs": [
        {
          "output_type": "stream",
          "name": "stdout",
          "text": [
            "<class 'pandas.core.frame.DataFrame'>\n",
            "RangeIndex: 178 entries, 0 to 177\n",
            "Data columns (total 14 columns):\n",
            " #   Column                Non-Null Count  Dtype  \n",
            "---  ------                --------------  -----  \n",
            " 0   class                 178 non-null    int64  \n",
            " 1   alcohol               178 non-null    float64\n",
            " 2   malic_acid            178 non-null    float64\n",
            " 3   ash                   178 non-null    float64\n",
            " 4   alcalinity_of_ash     178 non-null    float64\n",
            " 5   magnesium             178 non-null    int64  \n",
            " 6   total_phenols         178 non-null    float64\n",
            " 7   flavanoids            178 non-null    float64\n",
            " 8   nonflavanoid_phenols  178 non-null    float64\n",
            " 9   proanthocyanins       178 non-null    float64\n",
            " 10  color_intensity       178 non-null    float64\n",
            " 11  hue                   178 non-null    float64\n",
            " 12  dilution_of_wines     178 non-null    float64\n",
            " 13  proline               178 non-null    int64  \n",
            "dtypes: float64(11), int64(3)\n",
            "memory usage: 19.6 KB\n"
          ]
        }
      ]
    },
    {
      "cell_type": "code",
      "source": [
        "# Checking for null values\n",
        "df.isna().sum() "
      ],
      "metadata": {
        "id": "AK0rFz4mOxQQ",
        "colab": {
          "base_uri": "https://localhost:8080/"
        },
        "outputId": "4dc987e4-57c5-444f-8946-b2ffc70f8baa"
      },
      "execution_count": 4,
      "outputs": [
        {
          "output_type": "execute_result",
          "data": {
            "text/plain": [
              "class                   0\n",
              "alcohol                 0\n",
              "malic_acid              0\n",
              "ash                     0\n",
              "alcalinity_of_ash       0\n",
              "magnesium               0\n",
              "total_phenols           0\n",
              "flavanoids              0\n",
              "nonflavanoid_phenols    0\n",
              "proanthocyanins         0\n",
              "color_intensity         0\n",
              "hue                     0\n",
              "dilution_of_wines       0\n",
              "proline                 0\n",
              "dtype: int64"
            ]
          },
          "metadata": {},
          "execution_count": 4
        }
      ]
    },
    {
      "cell_type": "code",
      "source": [
        "# Checking predefined no.of cluster\n",
        "df['class'].nunique() "
      ],
      "metadata": {
        "id": "uFvHEfvNOyVa",
        "colab": {
          "base_uri": "https://localhost:8080/"
        },
        "outputId": "2cee26db-1047-4493-e5da-c1186497b5f9"
      },
      "execution_count": 5,
      "outputs": [
        {
          "output_type": "execute_result",
          "data": {
            "text/plain": [
              "3"
            ]
          },
          "metadata": {},
          "execution_count": 5
        }
      ]
    },
    {
      "cell_type": "code",
      "source": [
        "# Data distribued in clusters\n",
        "df['class'].value_counts() "
      ],
      "metadata": {
        "id": "smSyJ-VHO1AP",
        "colab": {
          "base_uri": "https://localhost:8080/"
        },
        "outputId": "44aeafb6-7f37-4ab2-884b-fd72f8bffbd9"
      },
      "execution_count": 6,
      "outputs": [
        {
          "output_type": "execute_result",
          "data": {
            "text/plain": [
              "2    71\n",
              "1    59\n",
              "3    48\n",
              "Name: class, dtype: int64"
            ]
          },
          "metadata": {},
          "execution_count": 6
        }
      ]
    },
    {
      "cell_type": "code",
      "source": [
        "#Plot for class\n",
        "df[\"class\"].value_counts().plot.bar(color='Red')\n",
        "plt.xlabel(\"Class\")\n",
        "plt.legend()"
      ],
      "metadata": {
        "id": "9RxeNbv3O4H3",
        "colab": {
          "base_uri": "https://localhost:8080/",
          "height": 461
        },
        "outputId": "65d1faa5-a212-43a6-f4da-818fc426a68b"
      },
      "execution_count": 7,
      "outputs": [
        {
          "output_type": "execute_result",
          "data": {
            "text/plain": [
              "<matplotlib.legend.Legend at 0x7f046ddf5cd0>"
            ]
          },
          "metadata": {},
          "execution_count": 7
        },
        {
          "output_type": "display_data",
          "data": {
            "text/plain": [
              "<Figure size 640x480 with 1 Axes>"
            ],
            "image/png": "[encoded data removed]"
          },
          "metadata": {}
        }
      ]
    },
    {
      "cell_type": "code",
      "source": [
        "# Using the standard scaler method to get the values converted into integers.\n",
        "X = df.iloc[:, 1:].values\n",
        "from sklearn.preprocessing import StandardScaler\n",
        "X_normal = scale(X)"
      ],
      "metadata": {
        "id": "piPLEfGaPKDH"
      },
      "execution_count": 8,
      "outputs": []
    },
    {
      "cell_type": "code",
      "source": [
        "X_normal.shape  "
      ],
      "metadata": {
        "id": "exWzG_7wPMpX",
        "colab": {
          "base_uri": "https://localhost:8080/"
        },
        "outputId": "a6e77af4-af6d-4fb9-85b3-c5ebf0939eca"
      },
      "execution_count": 9,
      "outputs": [
        {
          "output_type": "execute_result",
          "data": {
            "text/plain": [
              "(178, 13)"
            ]
          },
          "metadata": {},
          "execution_count": 9
        }
      ]
    },
    {
      "cell_type": "code",
      "source": [
        "X_normal "
      ],
      "metadata": {
        "id": "kFSdsqKcPOsH",
        "colab": {
          "base_uri": "https://localhost:8080/"
        },
        "outputId": "f33a2e39-11a4-46da-9f95-ef50da1c446e"
      },
      "execution_count": 10,
      "outputs": [
        {
          "output_type": "execute_result",
          "data": {
            "text/plain": [
              "array([[ 1.51861254, -0.5622498 ,  0.23205254, ...,  0.36217728,\n",
              "         1.84791957,  1.01300893],\n",
              "       [ 0.24628963, -0.49941338, -0.82799632, ...,  0.40605066,\n",
              "         1.1134493 ,  0.96524152],\n",
              "       [ 0.19687903,  0.02123125,  1.10933436, ...,  0.31830389,\n",
              "         0.78858745,  1.39514818],\n",
              "       ...,\n",
              "       [ 0.33275817,  1.74474449, -0.38935541, ..., -1.61212515,\n",
              "        -1.48544548,  0.28057537],\n",
              "       [ 0.20923168,  0.22769377,  0.01273209, ..., -1.56825176,\n",
              "        -1.40069891,  0.29649784],\n",
              "       [ 1.39508604,  1.58316512,  1.36520822, ..., -1.52437837,\n",
              "        -1.42894777, -0.59516041]])"
            ]
          },
          "metadata": {},
          "execution_count": 10
        }
      ]
    },
    {
      "cell_type": "code",
      "source": [
        "''' Using Principal Component Analysis or PCA in short to reduce the dimensionality of the data in order to optimize the result \n",
        "of the clustering. '''\n",
        "pca = PCA()\n",
        "principalComponents = pca.fit_transform(X_normal) "
      ],
      "metadata": {
        "id": "lTJJqOdsPRmu"
      },
      "execution_count": 11,
      "outputs": []
    },
    {
      "cell_type": "code",
      "source": [
        "principalComponents "
      ],
      "metadata": {
        "id": "yHALldb9PUeO",
        "colab": {
          "base_uri": "https://localhost:8080/"
        },
        "outputId": "6c37947d-c3d5-4864-b9b7-385bc008a277"
      },
      "execution_count": 12,
      "outputs": [
        {
          "output_type": "execute_result",
          "data": {
            "text/plain": [
              "array([[ 3.31675081e+00, -1.44346263e+00, -1.65739045e-01, ...,\n",
              "        -4.51563395e-01,  5.40810414e-01, -6.62386309e-02],\n",
              "       [ 2.20946492e+00,  3.33392887e-01, -2.02645737e+00, ...,\n",
              "        -1.42657306e-01,  3.88237741e-01,  3.63650247e-03],\n",
              "       [ 2.51674015e+00, -1.03115130e+00,  9.82818670e-01, ...,\n",
              "        -2.86672847e-01,  5.83573183e-04,  2.17165104e-02],\n",
              "       ...,\n",
              "       [-2.67783946e+00, -2.76089913e+00, -9.40941877e-01, ...,\n",
              "         5.12492025e-01,  6.98766451e-01,  7.20776948e-02],\n",
              "       [-2.38701709e+00, -2.29734668e+00, -5.50696197e-01, ...,\n",
              "         2.99821968e-01,  3.39820654e-01, -2.18657605e-02],\n",
              "       [-3.20875816e+00, -2.76891957e+00,  1.01391366e+00, ...,\n",
              "        -2.29964331e-01, -1.88787963e-01, -3.23964720e-01]])"
            ]
          },
          "metadata": {},
          "execution_count": 12
        }
      ]
    },
    {
      "cell_type": "code",
      "source": [
        "# Creating a dataframe featuring the two Principal components that we acquired through PCA.\n",
        "PCA_dataset = pd.DataFrame(data = principalComponents, columns = ['component1', 'component2', 'component3', 'component4', \n",
        "                                                                  'component5', 'component6','component7', 'component8', 'component9',\n",
        "                                                                 'component10', 'component11', 'component12', 'component13'] )\n",
        "PCA_dataset.head() "
      ],
      "metadata": {
        "id": "rLjhk6CoPX2A",
        "colab": {
          "base_uri": "https://localhost:8080/",
          "height": 270
        },
        "outputId": "f637a4de-4131-45bd-feb9-02de51d27444"
      },
      "execution_count": 13,
      "outputs": [
        {
          "output_type": "execute_result",
          "data": {
            "text/plain": [
              "   component1  component2  component3  component4  component5  component6  \\\n",
              "0    3.316751   -1.443463   -0.165739   -0.215631    0.693043   -0.223880   \n",
              "1    2.209465    0.333393   -2.026457   -0.291358   -0.257655   -0.927120   \n",
              "2    2.516740   -1.031151    0.982819    0.724902   -0.251033    0.549276   \n",
              "3    3.757066   -2.756372   -0.176192    0.567983   -0.311842    0.114431   \n",
              "4    1.008908   -0.869831    2.026688   -0.409766    0.298458   -0.406520   \n",
              "\n",
              "   component7  component8  component9  component10  component11  component12  \\\n",
              "0    0.596427    0.065139    0.641443     1.020956    -0.451563     0.540810   \n",
              "1    0.053776    1.024416   -0.308847     0.159701    -0.142657     0.388238   \n",
              "2    0.424205   -0.344216   -1.177834     0.113361    -0.286673     0.000584   \n",
              "3   -0.383337    0.643593    0.052544     0.239413     0.759584    -0.242020   \n",
              "4    0.444074    0.416700    0.326819    -0.078366    -0.525945    -0.216664   \n",
              "\n",
              "   component13  \n",
              "0    -0.066239  \n",
              "1     0.003637  \n",
              "2     0.021717  \n",
              "3    -0.369484  \n",
              "4    -0.079364  "
            ],
            "text/html": [
              "\n",
              "  <div id=\"df-facb4d60-f268-4edd-95ec-8ba773707fa6\">\n",
              "    <div class=\"colab-df-container\">\n",
              "      <div>\n",
              "<style scoped>\n",
              "    .dataframe tbody tr th:only-of-type {\n",
              "        vertical-align: middle;\n",
              "    }\n",
              "\n",
              "    .dataframe tbody tr th {\n",
              "        vertical-align: top;\n",
              "    }\n",
              "\n",
              "    .dataframe thead th {\n",
              "        text-align: right;\n",
              "    }\n",
              "</style>\n",
              "<table border=\"1\" class=\"dataframe\">\n",
              "  <thead>\n",
              "    <tr style=\"text-align: right;\">\n",
              "      <th></th>\n",
              "      <th>component1</th>\n",
              "      <th>component2</th>\n",
              "      <th>component3</th>\n",
              "      <th>component4</th>\n",
              "      <th>component5</th>\n",
              "      <th>component6</th>\n",
              "      <th>component7</th>\n",
              "      <th>component8</th>\n",
              "      <th>component9</th>\n",
              "      <th>component10</th>\n",
              "      <th>component11</th>\n",
              "      <th>component12</th>\n",
              "      <th>component13</th>\n",
              "    </tr>\n",
              "  </thead>\n",
              "  <tbody>\n",
              "    <tr>\n",
              "      <th>0</th>\n",
              "      <td>3.316751</td>\n",
              "      <td>-1.443463</td>\n",
              "      <td>-0.165739</td>\n",
              "      <td>-0.215631</td>\n",
              "      <td>0.693043</td>\n",
              "      <td>-0.223880</td>\n",
              "      <td>0.596427</td>\n",
              "      <td>0.065139</td>\n",
              "      <td>0.641443</td>\n",
              "      <td>1.020956</td>\n",
              "      <td>-0.451563</td>\n",
              "      <td>0.540810</td>\n",
              "      <td>-0.066239</td>\n",
              "    </tr>\n",
              "    <tr>\n",
              "      <th>1</th>\n",
              "      <td>2.209465</td>\n",
              "      <td>0.333393</td>\n",
              "      <td>-2.026457</td>\n",
              "      <td>-0.291358</td>\n",
              "      <td>-0.257655</td>\n",
              "      <td>-0.927120</td>\n",
              "      <td>0.053776</td>\n",
              "      <td>1.024416</td>\n",
              "      <td>-0.308847</td>\n",
              "      <td>0.159701</td>\n",
              "      <td>-0.142657</td>\n",
              "      <td>0.388238</td>\n",
              "      <td>0.003637</td>\n",
              "    </tr>\n",
              "    <tr>\n",
              "      <th>2</th>\n",
              "      <td>2.516740</td>\n",
              "      <td>-1.031151</td>\n",
              "      <td>0.982819</td>\n",
              "      <td>0.724902</td>\n",
              "      <td>-0.251033</td>\n",
              "      <td>0.549276</td>\n",
              "      <td>0.424205</td>\n",
              "      <td>-0.344216</td>\n",
              "      <td>-1.177834</td>\n",
              "      <td>0.113361</td>\n",
              "      <td>-0.286673</td>\n",
              "      <td>0.000584</td>\n",
              "      <td>0.021717</td>\n",
              "    </tr>\n",
              "    <tr>\n",
              "      <th>3</th>\n",
              "      <td>3.757066</td>\n",
              "      <td>-2.756372</td>\n",
              "      <td>-0.176192</td>\n",
              "      <td>0.567983</td>\n",
              "      <td>-0.311842</td>\n",
              "      <td>0.114431</td>\n",
              "      <td>-0.383337</td>\n",
              "      <td>0.643593</td>\n",
              "      <td>0.052544</td>\n",
              "      <td>0.239413</td>\n",
              "      <td>0.759584</td>\n",
              "      <td>-0.242020</td>\n",
              "      <td>-0.369484</td>\n",
              "    </tr>\n",
              "    <tr>\n",
              "      <th>4</th>\n",
              "      <td>1.008908</td>\n",
              "      <td>-0.869831</td>\n",
              "      <td>2.026688</td>\n",
              "      <td>-0.409766</td>\n",
              "      <td>0.298458</td>\n",
              "      <td>-0.406520</td>\n",
              "      <td>0.444074</td>\n",
              "      <td>0.416700</td>\n",
              "      <td>0.326819</td>\n",
              "      <td>-0.078366</td>\n",
              "      <td>-0.525945</td>\n",
              "      <td>-0.216664</td>\n",
              "      <td>-0.079364</td>\n",
              "    </tr>\n",
              "  </tbody>\n",
              "</table>\n",
              "</div>\n",
              "      <button class=\"colab-df-convert\" onclick=\"convertToInteractive('df-facb4d60-f268-4edd-95ec-8ba773707fa6')\"\n",
              "              title=\"Convert this dataframe to an interactive table.\"\n",
              "              style=\"display:none;\">\n",
              "        \n",
              "  <svg xmlns=\"http://www.w3.org/2000/svg\" height=\"24px\"viewBox=\"0 0 24 24\"\n",
              "       width=\"24px\">\n",
              "    <path d=\"M0 0h24v24H0V0z\" fill=\"none\"/>\n",
              "    <path d=\"M18.56 5.44l.94 2.06.94-2.06 2.06-.94-2.06-.94-.94-2.06-.94 2.06-2.06.94zm-11 1L8.5 8.5l.94-2.06 2.06-.94-2.06-.94L8.5 2.5l-.94 2.06-2.06.94zm10 10l.94 2.06.94-2.06 2.06-.94-2.06-.94-.94-2.06-.94 2.06-2.06.94z\"/><path d=\"M17.41 7.96l-1.37-1.37c-.4-.4-.92-.59-1.43-.59-.52 0-1.04.2-1.43.59L10.3 9.45l-7.72 7.72c-.78.78-.78 2.05 0 2.83L4 21.41c.39.39.9.59 1.41.59.51 0 1.02-.2 1.41-.59l7.78-7.78 2.81-2.81c.8-.78.8-2.07 0-2.86zM5.41 20L4 18.59l7.72-7.72 1.47 1.35L5.41 20z\"/>\n",
              "  </svg>\n",
              "      </button>\n",
              "      \n",
              "  <style>\n",
              "    .colab-df-container {\n",
              "      display:flex;\n",
              "      flex-wrap:wrap;\n",
              "      gap: 12px;\n",
              "    }\n",
              "\n",
              "    .colab-df-convert {\n",
              "      background-color: #E8F0FE;\n",
              "      border: none;\n",
              "      border-radius: 50%;\n",
              "      cursor: pointer;\n",
              "      display: none;\n",
              "      fill: #1967D2;\n",
              "      height: 32px;\n",
              "      padding: 0 0 0 0;\n",
              "      width: 32px;\n",
              "    }\n",
              "\n",
              "    .colab-df-convert:hover {\n",
              "      background-color: #E2EBFA;\n",
              "      box-shadow: 0px 1px 2px rgba(60, 64, 67, 0.3), 0px 1px 3px 1px rgba(60, 64, 67, 0.15);\n",
              "      fill: #174EA6;\n",
              "    }\n",
              "\n",
              "    [theme=dark] .colab-df-convert {\n",
              "      background-color: #3B4455;\n",
              "      fill: #D2E3FC;\n",
              "    }\n",
              "\n",
              "    [theme=dark] .colab-df-convert:hover {\n",
              "      background-color: #434B5C;\n",
              "      box-shadow: 0px 1px 3px 1px rgba(0, 0, 0, 0.15);\n",
              "      filter: drop-shadow(0px 1px 2px rgba(0, 0, 0, 0.3));\n",
              "      fill: #FFFFFF;\n",
              "    }\n",
              "  </style>\n",
              "\n",
              "      <script>\n",
              "        const buttonEl =\n",
              "          document.querySelector('#df-facb4d60-f268-4edd-95ec-8ba773707fa6 button.colab-df-convert');\n",
              "        buttonEl.style.display =\n",
              "          google.colab.kernel.accessAllowed ? 'block' : 'none';\n",
              "\n",
              "        async function convertToInteractive(key) {\n",
              "          const element = document.querySelector('#df-facb4d60-f268-4edd-95ec-8ba773707fa6');\n",
              "          const dataTable =\n",
              "            await google.colab.kernel.invokeFunction('convertToInteractive',\n",
              "                                                     [key], {});\n",
              "          if (!dataTable) return;\n",
              "\n",
              "          const docLinkHtml = 'Like what you see? Visit the ' +\n",
              "            '<a target=\"_blank\" href=https://colab.research.google.com/notebooks/data_table.ipynb>data table notebook</a>'\n",
              "            + ' to learn more about interactive tables.';\n",
              "          element.innerHTML = '';\n",
              "          dataTable['output_type'] = 'display_data';\n",
              "          await google.colab.output.renderOutput(dataTable, element);\n",
              "          const docLink = document.createElement('div');\n",
              "          docLink.innerHTML = docLinkHtml;\n",
              "          element.appendChild(docLink);\n",
              "        }\n",
              "      </script>\n",
              "    </div>\n",
              "  </div>\n",
              "  "
            ]
          },
          "metadata": {},
          "execution_count": 13
        }
      ]
    },
    {
      "cell_type": "code",
      "source": [
        "# The amount of variance that each PCA explains is \n",
        "var = pca.explained_variance_ratio_\n",
        "var "
      ],
      "metadata": {
        "id": "fl3yz3oKPa6-",
        "colab": {
          "base_uri": "https://localhost:8080/"
        },
        "outputId": "fabf8e85-b7f8-49a9-da96-c05d7afdce0c"
      },
      "execution_count": 14,
      "outputs": [
        {
          "output_type": "execute_result",
          "data": {
            "text/plain": [
              "array([0.36198848, 0.1920749 , 0.11123631, 0.0706903 , 0.06563294,\n",
              "       0.04935823, 0.04238679, 0.02680749, 0.02222153, 0.01930019,\n",
              "       0.01736836, 0.01298233, 0.00795215])"
            ]
          },
          "metadata": {},
          "execution_count": 14
        }
      ]
    },
    {
      "cell_type": "code",
      "source": [
        "# Cumulative variance \n",
        "var1 = np.cumsum(np.round(var,decimals = 4)*100)\n",
        "var1 "
      ],
      "metadata": {
        "id": "tndYN9hPPd7G",
        "colab": {
          "base_uri": "https://localhost:8080/"
        },
        "outputId": "cfd9a29f-1180-4011-dc18-7a8ece0341d9"
      },
      "execution_count": 15,
      "outputs": [
        {
          "output_type": "execute_result",
          "data": {
            "text/plain": [
              "array([ 36.2 ,  55.41,  66.53,  73.6 ,  80.16,  85.1 ,  89.34,  92.02,\n",
              "        94.24,  96.17,  97.91,  99.21, 100.01])"
            ]
          },
          "metadata": {},
          "execution_count": 15
        }
      ]
    },
    {
      "cell_type": "code",
      "source": [
        "pca.components_"
      ],
      "metadata": {
        "id": "LFL789-BPg82",
        "colab": {
          "base_uri": "https://localhost:8080/"
        },
        "outputId": "e72e5ca8-6860-443e-8146-7f2aa09c5929"
      },
      "execution_count": 16,
      "outputs": [
        {
          "output_type": "execute_result",
          "data": {
            "text/plain": [
              "array([[ 0.1443294 , -0.24518758, -0.00205106, -0.23932041,  0.14199204,\n",
              "         0.39466085,  0.4229343 , -0.2985331 ,  0.31342949, -0.0886167 ,\n",
              "         0.29671456,  0.37616741,  0.28675223],\n",
              "       [-0.48365155, -0.22493093, -0.31606881,  0.0105905 , -0.299634  ,\n",
              "        -0.06503951,  0.00335981, -0.02877949, -0.03930172, -0.52999567,\n",
              "         0.27923515,  0.16449619, -0.36490283],\n",
              "       [-0.20738262,  0.08901289,  0.6262239 ,  0.61208035,  0.13075693,\n",
              "         0.14617896,  0.1506819 ,  0.17036816,  0.14945431, -0.13730621,\n",
              "         0.08522192,  0.16600459, -0.12674592],\n",
              "       [-0.0178563 ,  0.53689028, -0.21417556,  0.06085941, -0.35179658,\n",
              "         0.19806835,  0.15229479, -0.20330102,  0.39905653,  0.06592568,\n",
              "        -0.42777141,  0.18412074, -0.23207086],\n",
              "       [-0.26566365,  0.03521363, -0.14302547,  0.06610294,  0.72704851,\n",
              "        -0.14931841, -0.10902584, -0.50070298,  0.13685982, -0.07643678,\n",
              "        -0.17361452, -0.10116099, -0.1578688 ],\n",
              "       [-0.21353865, -0.53681385, -0.15447466,  0.10082451, -0.03814394,\n",
              "         0.0841223 ,  0.01892002,  0.25859401,  0.53379539,  0.41864414,\n",
              "        -0.10598274, -0.26585107, -0.11972557],\n",
              "       [-0.05639636,  0.42052391, -0.14917061, -0.28696914,  0.3228833 ,\n",
              "        -0.02792498, -0.06068521,  0.59544729,  0.37213935, -0.22771214,\n",
              "         0.23207564, -0.0447637 ,  0.0768045 ],\n",
              "       [-0.39613926, -0.06582674,  0.17026002, -0.42797018,  0.15636143,\n",
              "         0.40593409,  0.18724536,  0.23328465, -0.36822675,  0.03379692,\n",
              "        -0.43662362,  0.07810789, -0.12002267],\n",
              "       [ 0.50861912, -0.07528304, -0.30769445,  0.20044931,  0.27140257,\n",
              "         0.28603452,  0.04957849,  0.19550132, -0.20914487,  0.05621752,\n",
              "         0.08582839,  0.1372269 , -0.57578611],\n",
              "       [ 0.21160473, -0.30907994, -0.02712539,  0.05279942,  0.06787022,\n",
              "        -0.32013135, -0.16315051,  0.21553507,  0.1341839 , -0.29077518,\n",
              "        -0.52239889,  0.52370587,  0.162116  ],\n",
              "       [-0.22591696,  0.07648554, -0.49869142,  0.47931378,  0.07128891,\n",
              "         0.30434119, -0.02569409,  0.11689586, -0.23736257,  0.0318388 ,\n",
              "        -0.04821201,  0.0464233 ,  0.53926983],\n",
              "       [-0.26628645,  0.12169604, -0.04962237, -0.05574287,  0.06222011,\n",
              "        -0.30388245, -0.04289883,  0.04235219, -0.09555303,  0.60422163,\n",
              "         0.259214  ,  0.60095872, -0.07940162],\n",
              "       [ 0.01496997,  0.02596375, -0.14121803,  0.09168285,  0.05677422,\n",
              "        -0.46390791,  0.83225706,  0.11403985, -0.11691707, -0.0119928 ,\n",
              "        -0.08988884, -0.15671813,  0.01444734]])"
            ]
          },
          "metadata": {},
          "execution_count": 16
        }
      ]
    },
    {
      "cell_type": "code",
      "source": [
        "# Variance plot for PCA components obtained \n",
        "plt.plot(var1,color=\"red\") "
      ],
      "metadata": {
        "id": "95raj9_OPk5P",
        "colab": {
          "base_uri": "https://localhost:8080/",
          "height": 447
        },
        "outputId": "155ed2ca-597d-45bd-cf96-86a460de577d"
      },
      "execution_count": 17,
      "outputs": [
        {
          "output_type": "execute_result",
          "data": {
            "text/plain": [
              "[<matplotlib.lines.Line2D at 0x7f0469393700>]"
            ]
          },
          "metadata": {},
          "execution_count": 17
        },
        {
          "output_type": "display_data",
          "data": {
            "text/plain": [
              "<Figure size 640x480 with 1 Axes>"
            ],
            "image/png": "[encoded data removed]"
          },
          "metadata": {}
        }
      ]
    },
    {
      "cell_type": "code",
      "source": [
        "principal_component1 = PCA_dataset['component1']\n",
        "principal_component2 = PCA_dataset['component2']\n",
        "principal_component3 = PCA_dataset['component3'] "
      ],
      "metadata": {
        "id": "QW7eTq4pPoiG"
      },
      "execution_count": 18,
      "outputs": []
    },
    {
      "cell_type": "code",
      "source": [
        "# Creating dataframe for further clusering algorithms\n",
        "pca_df = pd.concat([principal_component1, principal_component2, principal_component3], axis = 1)\n",
        "pca_df.head() "
      ],
      "metadata": {
        "id": "OKte2iT8Pqn1",
        "colab": {
          "base_uri": "https://localhost:8080/",
          "height": 206
        },
        "outputId": "b1a90802-5153-490e-d329-69cc585adb53"
      },
      "execution_count": 19,
      "outputs": [
        {
          "output_type": "execute_result",
          "data": {
            "text/plain": [
              "   component1  component2  component3\n",
              "0    3.316751   -1.443463   -0.165739\n",
              "1    2.209465    0.333393   -2.026457\n",
              "2    2.516740   -1.031151    0.982819\n",
              "3    3.757066   -2.756372   -0.176192\n",
              "4    1.008908   -0.869831    2.026688"
            ],
            "text/html": [
              "\n",
              "  <div id=\"df-390d6b0d-cdbf-40ad-8c11-6f1d3beb6b52\">\n",
              "    <div class=\"colab-df-container\">\n",
              "      <div>\n",
              "<style scoped>\n",
              "    .dataframe tbody tr th:only-of-type {\n",
              "        vertical-align: middle;\n",
              "    }\n",
              "\n",
              "    .dataframe tbody tr th {\n",
              "        vertical-align: top;\n",
              "    }\n",
              "\n",
              "    .dataframe thead th {\n",
              "        text-align: right;\n",
              "    }\n",
              "</style>\n",
              "<table border=\"1\" class=\"dataframe\">\n",
              "  <thead>\n",
              "    <tr style=\"text-align: right;\">\n",
              "      <th></th>\n",
              "      <th>component1</th>\n",
              "      <th>component2</th>\n",
              "      <th>component3</th>\n",
              "    </tr>\n",
              "  </thead>\n",
              "  <tbody>\n",
              "    <tr>\n",
              "      <th>0</th>\n",
              "      <td>3.316751</td>\n",
              "      <td>-1.443463</td>\n",
              "      <td>-0.165739</td>\n",
              "    </tr>\n",
              "    <tr>\n",
              "      <th>1</th>\n",
              "      <td>2.209465</td>\n",
              "      <td>0.333393</td>\n",
              "      <td>-2.026457</td>\n",
              "    </tr>\n",
              "    <tr>\n",
              "      <th>2</th>\n",
              "      <td>2.516740</td>\n",
              "      <td>-1.031151</td>\n",
              "      <td>0.982819</td>\n",
              "    </tr>\n",
              "    <tr>\n",
              "      <th>3</th>\n",
              "      <td>3.757066</td>\n",
              "      <td>-2.756372</td>\n",
              "      <td>-0.176192</td>\n",
              "    </tr>\n",
              "    <tr>\n",
              "      <th>4</th>\n",
              "      <td>1.008908</td>\n",
              "      <td>-0.869831</td>\n",
              "      <td>2.026688</td>\n",
              "    </tr>\n",
              "  </tbody>\n",
              "</table>\n",
              "</div>\n",
              "      <button class=\"colab-df-convert\" onclick=\"convertToInteractive('df-390d6b0d-cdbf-40ad-8c11-6f1d3beb6b52')\"\n",
              "              title=\"Convert this dataframe to an interactive table.\"\n",
              "              style=\"display:none;\">\n",
              "        \n",
              "  <svg xmlns=\"http://www.w3.org/2000/svg\" height=\"24px\"viewBox=\"0 0 24 24\"\n",
              "       width=\"24px\">\n",
              "    <path d=\"M0 0h24v24H0V0z\" fill=\"none\"/>\n",
              "    <path d=\"M18.56 5.44l.94 2.06.94-2.06 2.06-.94-2.06-.94-.94-2.06-.94 2.06-2.06.94zm-11 1L8.5 8.5l.94-2.06 2.06-.94-2.06-.94L8.5 2.5l-.94 2.06-2.06.94zm10 10l.94 2.06.94-2.06 2.06-.94-2.06-.94-.94-2.06-.94 2.06-2.06.94z\"/><path d=\"M17.41 7.96l-1.37-1.37c-.4-.4-.92-.59-1.43-.59-.52 0-1.04.2-1.43.59L10.3 9.45l-7.72 7.72c-.78.78-.78 2.05 0 2.83L4 21.41c.39.39.9.59 1.41.59.51 0 1.02-.2 1.41-.59l7.78-7.78 2.81-2.81c.8-.78.8-2.07 0-2.86zM5.41 20L4 18.59l7.72-7.72 1.47 1.35L5.41 20z\"/>\n",
              "  </svg>\n",
              "      </button>\n",
              "      \n",
              "  <style>\n",
              "    .colab-df-container {\n",
              "      display:flex;\n",
              "      flex-wrap:wrap;\n",
              "      gap: 12px;\n",
              "    }\n",
              "\n",
              "    .colab-df-convert {\n",
              "      background-color: #E8F0FE;\n",
              "      border: none;\n",
              "      border-radius: 50%;\n",
              "      cursor: pointer;\n",
              "      display: none;\n",
              "      fill: #1967D2;\n",
              "      height: 32px;\n",
              "      padding: 0 0 0 0;\n",
              "      width: 32px;\n",
              "    }\n",
              "\n",
              "    .colab-df-convert:hover {\n",
              "      background-color: #E2EBFA;\n",
              "      box-shadow: 0px 1px 2px rgba(60, 64, 67, 0.3), 0px 1px 3px 1px rgba(60, 64, 67, 0.15);\n",
              "      fill: #174EA6;\n",
              "    }\n",
              "\n",
              "    [theme=dark] .colab-df-convert {\n",
              "      background-color: #3B4455;\n",
              "      fill: #D2E3FC;\n",
              "    }\n",
              "\n",
              "    [theme=dark] .colab-df-convert:hover {\n",
              "      background-color: #434B5C;\n",
              "      box-shadow: 0px 1px 3px 1px rgba(0, 0, 0, 0.15);\n",
              "      filter: drop-shadow(0px 1px 2px rgba(0, 0, 0, 0.3));\n",
              "      fill: #FFFFFF;\n",
              "    }\n",
              "  </style>\n",
              "\n",
              "      <script>\n",
              "        const buttonEl =\n",
              "          document.querySelector('#df-390d6b0d-cdbf-40ad-8c11-6f1d3beb6b52 button.colab-df-convert');\n",
              "        buttonEl.style.display =\n",
              "          google.colab.kernel.accessAllowed ? 'block' : 'none';\n",
              "\n",
              "        async function convertToInteractive(key) {\n",
              "          const element = document.querySelector('#df-390d6b0d-cdbf-40ad-8c11-6f1d3beb6b52');\n",
              "          const dataTable =\n",
              "            await google.colab.kernel.invokeFunction('convertToInteractive',\n",
              "                                                     [key], {});\n",
              "          if (!dataTable) return;\n",
              "\n",
              "          const docLinkHtml = 'Like what you see? Visit the ' +\n",
              "            '<a target=\"_blank\" href=https://colab.research.google.com/notebooks/data_table.ipynb>data table notebook</a>'\n",
              "            + ' to learn more about interactive tables.';\n",
              "          element.innerHTML = '';\n",
              "          dataTable['output_type'] = 'display_data';\n",
              "          await google.colab.output.renderOutput(dataTable, element);\n",
              "          const docLink = document.createElement('div');\n",
              "          docLink.innerHTML = docLinkHtml;\n",
              "          element.appendChild(docLink);\n",
              "        }\n",
              "      </script>\n",
              "    </div>\n",
              "  </div>\n",
              "  "
            ]
          },
          "metadata": {},
          "execution_count": 19
        }
      ]
    },
    {
      "cell_type": "code",
      "source": [
        "# Visualizing the results of the 3D PCA.\n",
        "plt.figure(figsize=(10,10))\n",
        "ax =plt.axes(projection='3d')\n",
        "plt.title('3D Principal Component Analysis (PCA)')\n",
        "ax.scatter(\n",
        "    xs=principal_component1, \n",
        "    ys=principal_component2, \n",
        "    zs=principal_component3, \n",
        ")\n",
        "ax.set_xlabel('pca-one')\n",
        "ax.set_ylabel('pca-two')\n",
        "ax.set_zlabel('pca-three')\n",
        "plt.show() "
      ],
      "metadata": {
        "id": "_b_g4yJUPudN",
        "colab": {
          "base_uri": "https://localhost:8080/",
          "height": 829
        },
        "outputId": "1cf9ace4-ac37-4ebb-e158-57944f602fd4"
      },
      "execution_count": 20,
      "outputs": [
        {
          "output_type": "display_data",
          "data": {
            "text/plain": [
              "<Figure size 1000x1000 with 1 Axes>"
            ],
            "image/png": "[encoded data removed]"
          },
          "metadata": {}
        }
      ]
    },
    {
      "cell_type": "code",
      "source": [
        " #  Normalizing Dataset\n",
        "from sklearn.preprocessing import MinMaxScaler\n",
        "scaler = MinMaxScaler()\n",
        "pca_df_normal = scaler.fit_transform(pca_df)\n",
        "print(pca_df_normal) "
      ],
      "metadata": {
        "id": "Iqa7MHY_P2HF",
        "colab": {
          "base_uri": "https://localhost:8080/"
        },
        "outputId": "18418f08-cf6c-49d6-e884-9f48561fc45e"
      },
      "execution_count": 21,
      "outputs": [
        {
          "output_type": "stream",
          "name": "stdout",
          "text": [
            "[[0.88409355 0.28044707 0.44502757]\n",
            " [0.75524083 0.52098937 0.25765258]\n",
            " [0.79099786 0.33626383 0.56068773]\n",
            " [0.93533214 0.10271162 0.44397497]\n",
            " [0.6155344  0.35810263 0.66580576]\n",
            " [0.85308182 0.18853559 0.39833717]\n",
            " [0.7831255  0.31681056 0.36332375]\n",
            " [0.73778236 0.25804241 0.47644818]\n",
            " [0.79031526 0.35157211 0.28338035]\n",
            " [0.81856406 0.36898588 0.36260348]\n",
            " [0.9030599  0.2995525  0.41914796]\n",
            " [0.70232687 0.39300963 0.34179568]\n",
            " [0.7440692  0.38438229 0.37460304]\n",
            " [0.9005487  0.32279689 0.3404465 ]\n",
            " [1.         0.19211296 0.33444109]\n",
            " [0.76637997 0.25078783 0.48366041]\n",
            " [0.75087591 0.16079663 0.54547303]\n",
            " [0.71910927 0.25500921 0.54176564]\n",
            " [0.91030363 0.13493476 0.4128317 ]\n",
            " [0.74070149 0.33220437 0.4451275 ]\n",
            " [0.86171036 0.36932981 0.42497329]\n",
            " [0.62457173 0.44313012 0.55606991]\n",
            " [0.7931488  0.48828916 0.43030582]\n",
            " [0.68955378 0.54574762 0.47620682]\n",
            " [0.70312085 0.51879034 0.55136962]\n",
            " [0.61334326 0.34851312 0.84648431]\n",
            " [0.7047153  0.38296507 0.45298678]\n",
            " [0.64189357 0.48801387 0.32205658]\n",
            " [0.75279029 0.38250554 0.60215092]\n",
            " [0.76066871 0.449937   0.35168658]\n",
            " [0.78907544 0.307878   0.60129003]\n",
            " [0.80969482 0.27660092 0.42825867]\n",
            " [0.68764427 0.46872134 0.44488763]\n",
            " [0.71954213 0.25478022 0.57974662]\n",
            " [0.66225386 0.38137317 0.51002784]\n",
            " [0.71967425 0.45193392 0.50711679]\n",
            " [0.65928341 0.38669267 0.50788247]\n",
            " [0.62871878 0.46040858 0.45777943]\n",
            " [0.67293714 0.58001828 0.31810099]\n",
            " [0.79251773 0.23177434 0.42716198]\n",
            " [0.79930133 0.37031545 0.44978682]\n",
            " [0.57591963 0.45284771 0.38283266]\n",
            " [0.85547355 0.31937338 0.4302227 ]\n",
            " [0.55191605 0.43108191 0.44142879]\n",
            " [0.74265993 0.48546907 0.39567328]\n",
            " [0.63034313 0.23527982 0.46460822]\n",
            " [0.81541895 0.31457896 0.40736219]\n",
            " [0.82644347 0.38836878 0.34535301]\n",
            " [0.73201213 0.30703927 0.45594802]\n",
            " [0.8131952  0.23868316 0.39695578]\n",
            " [0.8722434  0.45324963 0.26297819]\n",
            " [0.8308213  0.3749639  0.4621928 ]\n",
            " [0.90607007 0.25753193 0.40927537]\n",
            " [0.75702434 0.22200484 0.49591033]\n",
            " [0.74797049 0.3382132  0.3652705 ]\n",
            " [0.78548077 0.29594136 0.51342088]\n",
            " [0.81715481 0.28138304 0.40004126]\n",
            " [0.7510837  0.31175434 0.48807884]\n",
            " [0.86345327 0.24144323 0.43295134]\n",
            " [0.39007238 0.89193024 0.        ]\n",
            " [0.31863423 0.6628695  0.37363665]\n",
            " [0.28444883 0.58821554 0.30002277]\n",
            " [0.50169132 0.64680623 0.28202704]\n",
            " [0.73671465 0.73645802 0.46097551]\n",
            " [0.42718229 0.73416019 0.53012913]\n",
            " [0.60288744 0.57927094 0.51945523]\n",
            " [0.75978411 0.73098343 0.25711053]\n",
            " [0.51946971 0.80443178 0.35399379]\n",
            " [0.40354512 0.50570836 0.39052186]\n",
            " [0.72802881 0.66582606 0.3370227 ]\n",
            " [0.3151739  0.59566105 0.39837723]\n",
            " [0.6910309  0.60537139 0.65834346]\n",
            " [0.41371948 0.6198475  0.46980703]\n",
            " [0.79629109 0.44063177 0.80152019]\n",
            " [0.71138202 0.65020307 0.5078665 ]\n",
            " [0.39712301 0.80672707 0.30428935]\n",
            " [0.54118753 0.76744195 0.21506349]\n",
            " [0.32853751 0.66312784 0.43882766]\n",
            " [0.64509449 0.58021018 0.34246572]\n",
            " [0.54190156 0.61489249 0.64242093]\n",
            " [0.58680957 0.93275504 0.42572019]\n",
            " [0.61852151 0.67224644 0.42516213]\n",
            " [0.44054181 0.7982177  0.59622735]\n",
            " [0.20267381 0.48769388 0.50947483]\n",
            " [0.59533426 0.67535476 0.52315418]\n",
            " [0.58981661 0.75021133 0.43606681]\n",
            " [0.40424017 0.77826161 0.53954439]\n",
            " [0.43319132 0.79709976 0.69409482]\n",
            " [0.36836635 0.71983592 0.55831469]\n",
            " [0.43346127 0.83562142 0.54722492]\n",
            " [0.34111594 0.76258124 0.45691894]\n",
            " [0.31607385 0.72660026 0.54037127]\n",
            " [0.2732419  0.68697333 0.45272755]\n",
            " [0.58501774 0.78896997 0.47326584]\n",
            " [0.6095469  0.77686698 0.47606178]\n",
            " [0.79415434 0.4529407  0.54113961]\n",
            " [0.43483095 0.52579975 0.59352382]\n",
            " [0.61811093 0.82317086 0.35231768]\n",
            " [0.76018002 0.66981397 0.43853549]\n",
            " [0.66223378 0.76910501 0.53713168]\n",
            " [0.59095878 0.7976363  0.30380807]\n",
            " [0.43418172 0.78628913 0.31077424]\n",
            " [0.47937419 0.63349846 0.5627918 ]\n",
            " [0.4213506  0.83865669 0.38468975]\n",
            " [0.54378719 0.75997259 0.41420208]\n",
            " [0.29186737 0.70833461 0.55708412]\n",
            " [0.45550784 0.769533   0.41324803]\n",
            " [0.30953513 0.65936868 0.49063456]\n",
            " [0.5077342  0.78806335 0.41503538]\n",
            " [0.68179049 0.6737795  0.64092851]\n",
            " [0.66343857 0.66784632 0.47574267]\n",
            " [0.46569757 0.73720739 0.4696397 ]\n",
            " [0.3464852  0.57917087 0.66307761]\n",
            " [0.4449411  0.78307897 0.56859475]\n",
            " [0.44062221 0.73835496 0.59503857]\n",
            " [0.55422773 1.         0.59708613]\n",
            " [0.46870148 0.85781651 0.43124161]\n",
            " [0.48565179 0.73698456 0.53121571]\n",
            " [0.21500469 0.64604202 0.27008202]\n",
            " [0.43400044 0.77668194 0.42584518]\n",
            " [0.58419804 0.66659411 0.57504023]\n",
            " [0.65363485 0.44156066 1.        ]\n",
            " [0.36115433 0.56574091 0.76484794]\n",
            " [0.44432863 0.55955715 0.51040036]\n",
            " [0.61199281 0.67155071 0.61087863]\n",
            " [0.48686411 0.76149776 0.50550469]\n",
            " [0.50260834 0.64734448 0.53095688]\n",
            " [0.31227142 0.63940898 0.8001891 ]\n",
            " [0.44232362 0.73832729 0.5922763 ]\n",
            " [0.2895011  0.63157678 0.5405458 ]\n",
            " [0.34369741 0.45278973 0.34288979]\n",
            " [0.22064991 0.42514699 0.38882836]\n",
            " [0.15636362 0.44013585 0.44483616]\n",
            " [0.2483094  0.4260036  0.41606995]\n",
            " [0.22235253 0.5380794  0.3508062 ]\n",
            " [0.14159634 0.42801286 0.35103536]\n",
            " [0.04246096 0.45492957 0.48405568]\n",
            " [0.04005103 0.38655088 0.63413824]\n",
            " [0.13805473 0.42863153 0.35831526]\n",
            " [0.22181699 0.4363293  0.58677875]\n",
            " [0.17476457 0.43702993 0.52311154]\n",
            " [0.23204695 0.42542787 0.36387275]\n",
            " [0.15069726 0.40962821 0.55707604]\n",
            " [0.22173285 0.41056016 0.43625204]\n",
            " [0.24097188 0.3188138  0.336333  ]\n",
            " [0.19259122 0.39961818 0.37552197]\n",
            " [0.         0.38790683 0.3148766 ]\n",
            " [0.08122461 0.30356374 0.45056155]\n",
            " [0.17147708 0.26324478 0.41413382]\n",
            " [0.16070191 0.19954757 0.41177422]\n",
            " [0.22806999 0.15686252 0.50579225]\n",
            " [0.20141076 0.19897547 0.43027205]\n",
            " [0.28720774 0.26905073 0.59893081]\n",
            " [0.17693697 0.18629767 0.3645791 ]\n",
            " [0.17961275 0.42036775 0.34184338]\n",
            " [0.07863804 0.23185797 0.452248  ]\n",
            " [0.1618462  0.21522923 0.38293739]\n",
            " [0.10339102 0.2982606  0.62304212]\n",
            " [0.37615476 0.         0.57853383]\n",
            " [0.31078728 0.15005693 0.5169577 ]\n",
            " [0.13236959 0.37592747 0.45255394]\n",
            " [0.23744694 0.31672729 0.45150885]\n",
            " [0.16675137 0.40058161 0.5427023 ]\n",
            " [0.19586395 0.38136894 0.37260383]\n",
            " [0.1549254  0.26530585 0.36268875]\n",
            " [0.08734663 0.35638391 0.41478825]\n",
            " [0.21813523 0.1249153  0.50484007]\n",
            " [0.15727773 0.30332762 0.33953194]\n",
            " [0.24428288 0.19460904 0.53863071]\n",
            " [0.2210657  0.12541466 0.60451507]\n",
            " [0.12439997 0.50986913 0.37641134]\n",
            " [0.07013737 0.36109212 0.32683746]\n",
            " [0.2112177  0.17887018 0.36919598]\n",
            " [0.10590828 0.17582548 0.42722068]\n",
            " [0.19534509 0.23797082 0.48262106]\n",
            " [0.18651466 0.10209875 0.36696437]\n",
            " [0.2203571  0.16485229 0.40626225]\n",
            " [0.12473268 0.10101298 0.56381901]]\n"
          ]
        }
      ]
    },
    {
      "cell_type": "code",
      "source": [
        "# Creating clusters\n",
        "from sklearn.cluster import AgglomerativeClustering\n",
        "H_clusters=AgglomerativeClustering(n_clusters=3,affinity='euclidean',linkage='ward')\n",
        "H_clusters "
      ],
      "metadata": {
        "id": "eiU1ldEWP3jF",
        "colab": {
          "base_uri": "https://localhost:8080/",
          "height": 75
        },
        "outputId": "c8c24ab2-5ed8-4110-f86d-9e27603b8d41"
      },
      "execution_count": 22,
      "outputs": [
        {
          "output_type": "execute_result",
          "data": {
            "text/plain": [
              "AgglomerativeClustering(affinity='euclidean', n_clusters=3)"
            ],
            "text/html": [
              "<style>#sk-container-id-1 {color: black;background-color: white;}#sk-container-id-1 pre{padding: 0;}#sk-container-id-1 div.sk-toggleable {background-color: white;}#sk-container-id-1 label.sk-toggleable__label {cursor: pointer;display: block;width: 100%;margin-bottom: 0;padding: 0.3em;box-sizing: border-box;text-align: center;}#sk-container-id-1 label.sk-toggleable__label-arrow:before {content: \"▸\";float: left;margin-right: 0.25em;color: #696969;}#sk-container-id-1 label.sk-toggleable__label-arrow:hover:before {color: black;}#sk-container-id-1 div.sk-estimator:hover label.sk-toggleable__label-arrow:before {color: black;}#sk-container-id-1 div.sk-toggleable__content {max-height: 0;max-width: 0;overflow: hidden;text-align: left;background-color: #f0f8ff;}#sk-container-id-1 div.sk-toggleable__content pre {margin: 0.2em;color: black;border-radius: 0.25em;background-color: #f0f8ff;}#sk-container-id-1 input.sk-toggleable__control:checked~div.sk-toggleable__content {max-height: 200px;max-width: 100%;overflow: auto;}#sk-container-id-1 input.sk-toggleable__control:checked~label.sk-toggleable__label-arrow:before {content: \"▾\";}#sk-container-id-1 div.sk-estimator input.sk-toggleable__control:checked~label.sk-toggleable__label {background-color: #d4ebff;}#sk-container-id-1 div.sk-label input.sk-toggleable__control:checked~label.sk-toggleable__label {background-color: #d4ebff;}#sk-container-id-1 input.sk-hidden--visually {border: 0;clip: rect(1px 1px 1px 1px);clip: rect(1px, 1px, 1px, 1px);height: 1px;margin: -1px;overflow: hidden;padding: 0;position: absolute;width: 1px;}#sk-container-id-1 div.sk-estimator {font-family: monospace;background-color: #f0f8ff;border: 1px dotted black;border-radius: 0.25em;box-sizing: border-box;margin-bottom: 0.5em;}#sk-container-id-1 div.sk-estimator:hover {background-color: #d4ebff;}#sk-container-id-1 div.sk-parallel-item::after {content: \"\";width: 100%;border-bottom: 1px solid gray;flex-grow: 1;}#sk-container-id-1 div.sk-label:hover label.sk-toggleable__label {background-color: #d4ebff;}#sk-container-id-1 div.sk-serial::before {content: \"\";position: absolute;border-left: 1px solid gray;box-sizing: border-box;top: 0;bottom: 0;left: 50%;z-index: 0;}#sk-container-id-1 div.sk-serial {display: flex;flex-direction: column;align-items: center;background-color: white;padding-right: 0.2em;padding-left: 0.2em;position: relative;}#sk-container-id-1 div.sk-item {position: relative;z-index: 1;}#sk-container-id-1 div.sk-parallel {display: flex;align-items: stretch;justify-content: center;background-color: white;position: relative;}#sk-container-id-1 div.sk-item::before, #sk-container-id-1 div.sk-parallel-item::before {content: \"\";position: absolute;border-left: 1px solid gray;box-sizing: border-box;top: 0;bottom: 0;left: 50%;z-index: -1;}#sk-container-id-1 div.sk-parallel-item {display: flex;flex-direction: column;z-index: 1;position: relative;background-color: white;}#sk-container-id-1 div.sk-parallel-item:first-child::after {align-self: flex-end;width: 50%;}#sk-container-id-1 div.sk-parallel-item:last-child::after {align-self: flex-start;width: 50%;}#sk-container-id-1 div.sk-parallel-item:only-child::after {width: 0;}#sk-container-id-1 div.sk-dashed-wrapped {border: 1px dashed gray;margin: 0 0.4em 0.5em 0.4em;box-sizing: border-box;padding-bottom: 0.4em;background-color: white;}#sk-container-id-1 div.sk-label label {font-family: monospace;font-weight: bold;display: inline-block;line-height: 1.2em;}#sk-container-id-1 div.sk-label-container {text-align: center;}#sk-container-id-1 div.sk-container {/* jupyter's `normalize.less` sets `[hidden] { display: none; }` but bootstrap.min.css set `[hidden] { display: none !important; }` so we also need the `!important` here to be able to override the default hidden behavior on the sphinx rendered scikit-learn.org. See: https://github.com/scikit-learn/scikit-learn/issues/21755 */display: inline-block !important;position: relative;}#sk-container-id-1 div.sk-text-repr-fallback {display: none;}</style><div id=\"sk-container-id-1\" class=\"sk-top-container\"><div class=\"sk-text-repr-fallback\"><pre>AgglomerativeClustering(affinity=&#x27;euclidean&#x27;, n_clusters=3)</pre><b>In a Jupyter environment, please rerun this cell to show the HTML representation or trust the notebook. <br />On GitHub, the HTML representation is unable to render, please try loading this page with nbviewer.org.</b></div><div class=\"sk-container\" hidden><div class=\"sk-item\"><div class=\"sk-estimator sk-toggleable\"><input class=\"sk-toggleable__control sk-hidden--visually\" id=\"sk-estimator-id-1\" type=\"checkbox\" checked><label for=\"sk-estimator-id-1\" class=\"sk-toggleable__label sk-toggleable__label-arrow\">AgglomerativeClustering</label><div class=\"sk-toggleable__content\"><pre>AgglomerativeClustering(affinity=&#x27;euclidean&#x27;, n_clusters=3)</pre></div></div></div></div></div>"
            ]
          },
          "metadata": {},
          "execution_count": 22
        }
      ]
    },
    {
      "cell_type": "code",
      "source": [
        "y=pd.DataFrame(H_clusters.fit_predict(pca_df_normal),columns=['clustersid_H'])\n",
        "y['clustersid_H'].value_counts() "
      ],
      "metadata": {
        "id": "4Xgv5tKWQIb1",
        "colab": {
          "base_uri": "https://localhost:8080/"
        },
        "outputId": "4e3ab86c-0a16-424b-da18-13dd4dff3a7c"
      },
      "execution_count": 23,
      "outputs": [
        {
          "output_type": "stream",
          "name": "stderr",
          "text": [
            "/usr/local/lib/python3.9/dist-packages/sklearn/cluster/_agglomerative.py:983: FutureWarning: Attribute `affinity` was deprecated in version 1.2 and will be removed in 1.4. Use `metric` instead\n",
            "  warnings.warn(\n"
          ]
        },
        {
          "output_type": "execute_result",
          "data": {
            "text/plain": [
              "0    66\n",
              "2    65\n",
              "1    47\n",
              "Name: clustersid_H, dtype: int64"
            ]
          },
          "metadata": {},
          "execution_count": 23
        }
      ]
    },
    {
      "cell_type": "code",
      "source": [
        "!pip install yellowbrick\n",
        "from sklearn.cluster import KMeans\n",
        "from yellowbrick.cluster import KElbowVisualizer  "
      ],
      "metadata": {
        "id": "8jyY_nLDQJbN",
        "colab": {
          "base_uri": "https://localhost:8080/"
        },
        "outputId": "45dafaed-b5df-4c42-d279-90f163fa4aff"
      },
      "execution_count": 24,
      "outputs": [
        {
          "output_type": "stream",
          "name": "stdout",
          "text": [
            "Looking in indexes: https://pypi.org/simple, https://us-python.pkg.dev/colab-wheels/public/simple/\n",
            "Requirement already satisfied: yellowbrick in /usr/local/lib/python3.9/dist-packages (1.5)\n",
            "Requirement already satisfied: cycler>=0.10.0 in /usr/local/lib/python3.9/dist-packages (from yellowbrick) (0.11.0)\n",
            "Requirement already satisfied: scipy>=1.0.0 in /usr/local/lib/python3.9/dist-packages (from yellowbrick) (1.10.1)\n",
            "Requirement already satisfied: scikit-learn>=1.0.0 in /usr/local/lib/python3.9/dist-packages (from yellowbrick) (1.2.2)\n",
            "Requirement already satisfied: numpy>=1.16.0 in /usr/local/lib/python3.9/dist-packages (from yellowbrick) (1.22.4)\n",
            "Requirement already satisfied: matplotlib!=3.0.0,>=2.0.2 in /usr/local/lib/python3.9/dist-packages (from yellowbrick) (3.7.1)\n",
            "Requirement already satisfied: contourpy>=1.0.1 in /usr/local/lib/python3.9/dist-packages (from matplotlib!=3.0.0,>=2.0.2->yellowbrick) (1.0.7)\n",
            "Requirement already satisfied: packaging>=20.0 in /usr/local/lib/python3.9/dist-packages (from matplotlib!=3.0.0,>=2.0.2->yellowbrick) (23.0)\n",
            "Requirement already satisfied: importlib-resources>=3.2.0 in /usr/local/lib/python3.9/dist-packages (from matplotlib!=3.0.0,>=2.0.2->yellowbrick) (5.12.0)\n",
            "Requirement already satisfied: kiwisolver>=1.0.1 in /usr/local/lib/python3.9/dist-packages (from matplotlib!=3.0.0,>=2.0.2->yellowbrick) (1.4.4)\n",
            "Requirement already satisfied: fonttools>=4.22.0 in /usr/local/lib/python3.9/dist-packages (from matplotlib!=3.0.0,>=2.0.2->yellowbrick) (4.39.3)\n",
            "Requirement already satisfied: pillow>=6.2.0 in /usr/local/lib/python3.9/dist-packages (from matplotlib!=3.0.0,>=2.0.2->yellowbrick) (8.4.0)\n",
            "Requirement already satisfied: pyparsing>=2.3.1 in /usr/local/lib/python3.9/dist-packages (from matplotlib!=3.0.0,>=2.0.2->yellowbrick) (3.0.9)\n",
            "Requirement already satisfied: python-dateutil>=2.7 in /usr/local/lib/python3.9/dist-packages (from matplotlib!=3.0.0,>=2.0.2->yellowbrick) (2.8.2)\n",
            "Requirement already satisfied: threadpoolctl>=2.0.0 in /usr/local/lib/python3.9/dist-packages (from scikit-learn>=1.0.0->yellowbrick) (3.1.0)\n",
            "Requirement already satisfied: joblib>=1.1.1 in /usr/local/lib/python3.9/dist-packages (from scikit-learn>=1.0.0->yellowbrick) (1.1.1)\n",
            "Requirement already satisfied: zipp>=3.1.0 in /usr/local/lib/python3.9/dist-packages (from importlib-resources>=3.2.0->matplotlib!=3.0.0,>=2.0.2->yellowbrick) (3.15.0)\n",
            "Requirement already satisfied: six>=1.5 in /usr/local/lib/python3.9/dist-packages (from python-dateutil>=2.7->matplotlib!=3.0.0,>=2.0.2->yellowbrick) (1.16.0)\n"
          ]
        }
      ]
    },
    {
      "cell_type": "code",
      "source": [
        "wcss = []\n",
        "for i in range(1, 11):\n",
        "    kmeans = KMeans(n_clusters=i,random_state=0)\n",
        "    kmeans.fit(pca_df_normal)\n",
        "    wcss.append(kmeans.inertia_)\n",
        "    \n",
        "plt.plot(range(1, 11), wcss)\n",
        "plt.title('Elbow Method')\n",
        "plt.xlabel('Number of clusters')\n",
        "plt.ylabel('WCSS')\n",
        "plt.show() "
      ],
      "metadata": {
        "colab": {
          "base_uri": "https://localhost:8080/",
          "height": 891
        },
        "id": "CJMNEUnbJTJu",
        "outputId": "f452b7ad-beb3-487f-aad7-0e4f74fed792"
      },
      "execution_count": 25,
      "outputs": [
        {
          "output_type": "stream",
          "name": "stderr",
          "text": [
            "/usr/local/lib/python3.9/dist-packages/sklearn/cluster/_kmeans.py:870: FutureWarning: The default value of `n_init` will change from 10 to 'auto' in 1.4. Set the value of `n_init` explicitly to suppress the warning\n",
            "  warnings.warn(\n",
            "/usr/local/lib/python3.9/dist-packages/sklearn/cluster/_kmeans.py:870: FutureWarning: The default value of `n_init` will change from 10 to 'auto' in 1.4. Set the value of `n_init` explicitly to suppress the warning\n",
            "  warnings.warn(\n",
            "/usr/local/lib/python3.9/dist-packages/sklearn/cluster/_kmeans.py:870: FutureWarning: The default value of `n_init` will change from 10 to 'auto' in 1.4. Set the value of `n_init` explicitly to suppress the warning\n",
            "  warnings.warn(\n",
            "/usr/local/lib/python3.9/dist-packages/sklearn/cluster/_kmeans.py:870: FutureWarning: The default value of `n_init` will change from 10 to 'auto' in 1.4. Set the value of `n_init` explicitly to suppress the warning\n",
            "  warnings.warn(\n",
            "/usr/local/lib/python3.9/dist-packages/sklearn/cluster/_kmeans.py:870: FutureWarning: The default value of `n_init` will change from 10 to 'auto' in 1.4. Set the value of `n_init` explicitly to suppress the warning\n",
            "  warnings.warn(\n",
            "/usr/local/lib/python3.9/dist-packages/sklearn/cluster/_kmeans.py:870: FutureWarning: The default value of `n_init` will change from 10 to 'auto' in 1.4. Set the value of `n_init` explicitly to suppress the warning\n",
            "  warnings.warn(\n",
            "/usr/local/lib/python3.9/dist-packages/sklearn/cluster/_kmeans.py:870: FutureWarning: The default value of `n_init` will change from 10 to 'auto' in 1.4. Set the value of `n_init` explicitly to suppress the warning\n",
            "  warnings.warn(\n",
            "/usr/local/lib/python3.9/dist-packages/sklearn/cluster/_kmeans.py:870: FutureWarning: The default value of `n_init` will change from 10 to 'auto' in 1.4. Set the value of `n_init` explicitly to suppress the warning\n",
            "  warnings.warn(\n",
            "/usr/local/lib/python3.9/dist-packages/sklearn/cluster/_kmeans.py:870: FutureWarning: The default value of `n_init` will change from 10 to 'auto' in 1.4. Set the value of `n_init` explicitly to suppress the warning\n",
            "  warnings.warn(\n",
            "/usr/local/lib/python3.9/dist-packages/sklearn/cluster/_kmeans.py:870: FutureWarning: The default value of `n_init` will change from 10 to 'auto' in 1.4. Set the value of `n_init` explicitly to suppress the warning\n",
            "  warnings.warn(\n"
          ]
        },
        {
          "output_type": "display_data",
          "data": {
            "text/plain": [
              "<Figure size 800x550 with 1 Axes>"
            ],
            "image/png": "[encoded data removed]"
          },
          "metadata": {}
        }
      ]
    },
    {
      "cell_type": "code",
      "source": [
        "#Build Cluster algorithm\n",
        "\n",
        "KM_clusters = KMeans(3, random_state=42)\n",
        "KM_clusters.fit(pca_df_normal) "
      ],
      "metadata": {
        "colab": {
          "base_uri": "https://localhost:8080/",
          "height": 129
        },
        "id": "0fx6HlHZJYkk",
        "outputId": "2444158c-b96a-45f6-c88f-336f53d84cd6"
      },
      "execution_count": 26,
      "outputs": [
        {
          "output_type": "stream",
          "name": "stderr",
          "text": [
            "/usr/local/lib/python3.9/dist-packages/sklearn/cluster/_kmeans.py:870: FutureWarning: The default value of `n_init` will change from 10 to 'auto' in 1.4. Set the value of `n_init` explicitly to suppress the warning\n",
            "  warnings.warn(\n"
          ]
        },
        {
          "output_type": "execute_result",
          "data": {
            "text/plain": [
              "KMeans(n_clusters=3, random_state=42)"
            ],
            "text/html": [
              "<style>#sk-container-id-2 {color: black;background-color: white;}#sk-container-id-2 pre{padding: 0;}#sk-container-id-2 div.sk-toggleable {background-color: white;}#sk-container-id-2 label.sk-toggleable__label {cursor: pointer;display: block;width: 100%;margin-bottom: 0;padding: 0.3em;box-sizing: border-box;text-align: center;}#sk-container-id-2 label.sk-toggleable__label-arrow:before {content: \"▸\";float: left;margin-right: 0.25em;color: #696969;}#sk-container-id-2 label.sk-toggleable__label-arrow:hover:before {color: black;}#sk-container-id-2 div.sk-estimator:hover label.sk-toggleable__label-arrow:before {color: black;}#sk-container-id-2 div.sk-toggleable__content {max-height: 0;max-width: 0;overflow: hidden;text-align: left;background-color: #f0f8ff;}#sk-container-id-2 div.sk-toggleable__content pre {margin: 0.2em;color: black;border-radius: 0.25em;background-color: #f0f8ff;}#sk-container-id-2 input.sk-toggleable__control:checked~div.sk-toggleable__content {max-height: 200px;max-width: 100%;overflow: auto;}#sk-container-id-2 input.sk-toggleable__control:checked~label.sk-toggleable__label-arrow:before {content: \"▾\";}#sk-container-id-2 div.sk-estimator input.sk-toggleable__control:checked~label.sk-toggleable__label {background-color: #d4ebff;}#sk-container-id-2 div.sk-label input.sk-toggleable__control:checked~label.sk-toggleable__label {background-color: #d4ebff;}#sk-container-id-2 input.sk-hidden--visually {border: 0;clip: rect(1px 1px 1px 1px);clip: rect(1px, 1px, 1px, 1px);height: 1px;margin: -1px;overflow: hidden;padding: 0;position: absolute;width: 1px;}#sk-container-id-2 div.sk-estimator {font-family: monospace;background-color: #f0f8ff;border: 1px dotted black;border-radius: 0.25em;box-sizing: border-box;margin-bottom: 0.5em;}#sk-container-id-2 div.sk-estimator:hover {background-color: #d4ebff;}#sk-container-id-2 div.sk-parallel-item::after {content: \"\";width: 100%;border-bottom: 1px solid gray;flex-grow: 1;}#sk-container-id-2 div.sk-label:hover label.sk-toggleable__label {background-color: #d4ebff;}#sk-container-id-2 div.sk-serial::before {content: \"\";position: absolute;border-left: 1px solid gray;box-sizing: border-box;top: 0;bottom: 0;left: 50%;z-index: 0;}#sk-container-id-2 div.sk-serial {display: flex;flex-direction: column;align-items: center;background-color: white;padding-right: 0.2em;padding-left: 0.2em;position: relative;}#sk-container-id-2 div.sk-item {position: relative;z-index: 1;}#sk-container-id-2 div.sk-parallel {display: flex;align-items: stretch;justify-content: center;background-color: white;position: relative;}#sk-container-id-2 div.sk-item::before, #sk-container-id-2 div.sk-parallel-item::before {content: \"\";position: absolute;border-left: 1px solid gray;box-sizing: border-box;top: 0;bottom: 0;left: 50%;z-index: -1;}#sk-container-id-2 div.sk-parallel-item {display: flex;flex-direction: column;z-index: 1;position: relative;background-color: white;}#sk-container-id-2 div.sk-parallel-item:first-child::after {align-self: flex-end;width: 50%;}#sk-container-id-2 div.sk-parallel-item:last-child::after {align-self: flex-start;width: 50%;}#sk-container-id-2 div.sk-parallel-item:only-child::after {width: 0;}#sk-container-id-2 div.sk-dashed-wrapped {border: 1px dashed gray;margin: 0 0.4em 0.5em 0.4em;box-sizing: border-box;padding-bottom: 0.4em;background-color: white;}#sk-container-id-2 div.sk-label label {font-family: monospace;font-weight: bold;display: inline-block;line-height: 1.2em;}#sk-container-id-2 div.sk-label-container {text-align: center;}#sk-container-id-2 div.sk-container {/* jupyter's `normalize.less` sets `[hidden] { display: none; }` but bootstrap.min.css set `[hidden] { display: none !important; }` so we also need the `!important` here to be able to override the default hidden behavior on the sphinx rendered scikit-learn.org. See: https://github.com/scikit-learn/scikit-learn/issues/21755 */display: inline-block !important;position: relative;}#sk-container-id-2 div.sk-text-repr-fallback {display: none;}</style><div id=\"sk-container-id-2\" class=\"sk-top-container\"><div class=\"sk-text-repr-fallback\"><pre>KMeans(n_clusters=3, random_state=42)</pre><b>In a Jupyter environment, please rerun this cell to show the HTML representation or trust the notebook. <br />On GitHub, the HTML representation is unable to render, please try loading this page with nbviewer.org.</b></div><div class=\"sk-container\" hidden><div class=\"sk-item\"><div class=\"sk-estimator sk-toggleable\"><input class=\"sk-toggleable__control sk-hidden--visually\" id=\"sk-estimator-id-2\" type=\"checkbox\" checked><label for=\"sk-estimator-id-2\" class=\"sk-toggleable__label sk-toggleable__label-arrow\">KMeans</label><div class=\"sk-toggleable__content\"><pre>KMeans(n_clusters=3, random_state=42)</pre></div></div></div></div></div>"
            ]
          },
          "metadata": {},
          "execution_count": 26
        }
      ]
    },
    {
      "cell_type": "code",
      "source": [
        "y=pd.DataFrame(KM_clusters.fit_predict(pca_df_normal),columns=['clusterid_Kmeans'])\n",
        "y['clusterid_Kmeans'].value_counts() "
      ],
      "metadata": {
        "colab": {
          "base_uri": "https://localhost:8080/"
        },
        "id": "cUbCefaCJcBa",
        "outputId": "b1d8f71d-849f-465f-d139-51e6c28ad456"
      },
      "execution_count": 27,
      "outputs": [
        {
          "output_type": "stream",
          "name": "stderr",
          "text": [
            "/usr/local/lib/python3.9/dist-packages/sklearn/cluster/_kmeans.py:870: FutureWarning: The default value of `n_init` will change from 10 to 'auto' in 1.4. Set the value of `n_init` explicitly to suppress the warning\n",
            "  warnings.warn(\n"
          ]
        },
        {
          "output_type": "execute_result",
          "data": {
            "text/plain": [
              "0    68\n",
              "2    61\n",
              "1    49\n",
              "Name: clusterid_Kmeans, dtype: int64"
            ]
          },
          "metadata": {},
          "execution_count": 27
        }
      ]
    },
    {
      "cell_type": "code",
      "source": [
        "wine_class = df['class']\n",
        "wine_class = pd.Series(wine_class) "
      ],
      "metadata": {
        "id": "4NjqBKQ3JgnG"
      },
      "execution_count": 28,
      "outputs": []
    },
    {
      "cell_type": "code",
      "source": [
        "clustersid_HC = H_clusters.labels_\n",
        "clustersid_HC = pd.Series(clustersid_HC) "
      ],
      "metadata": {
        "id": "W3QjygU-Jlvc"
      },
      "execution_count": 29,
      "outputs": []
    },
    {
      "cell_type": "code",
      "source": [
        "clusterid_Kmeans = KM_clusters.labels_\n",
        "clusterid_Kmeans = pd.Series(clusterid_Kmeans)"
      ],
      "metadata": {
        "id": "YOG7HGGQJp5W"
      },
      "execution_count": 30,
      "outputs": []
    },
    {
      "cell_type": "code",
      "source": [
        "pred_df = pd.concat([wine_class, clustersid_HC, clusterid_Kmeans],axis = 1)\n",
        "pred_df"
      ],
      "metadata": {
        "colab": {
          "base_uri": "https://localhost:8080/",
          "height": 424
        },
        "id": "KUqnI3ESJtEB",
        "outputId": "d0bfa527-9025-4198-b066-61dc71815fd4"
      },
      "execution_count": 31,
      "outputs": [
        {
          "output_type": "execute_result",
          "data": {
            "text/plain": [
              "     class  0  1\n",
              "0        1  0  2\n",
              "1        1  0  2\n",
              "2        1  0  2\n",
              "3        1  0  2\n",
              "4        1  0  2\n",
              "..     ... .. ..\n",
              "173      3  1  1\n",
              "174      3  1  1\n",
              "175      3  1  1\n",
              "176      3  1  1\n",
              "177      3  1  1\n",
              "\n",
              "[178 rows x 3 columns]"
            ],
            "text/html": [
              "\n",
              "  <div id=\"df-cf3c538b-e086-4ec4-ac8d-b3d26e9b98d8\">\n",
              "    <div class=\"colab-df-container\">\n",
              "      <div>\n",
              "<style scoped>\n",
              "    .dataframe tbody tr th:only-of-type {\n",
              "        vertical-align: middle;\n",
              "    }\n",
              "\n",
              "    .dataframe tbody tr th {\n",
              "        vertical-align: top;\n",
              "    }\n",
              "\n",
              "    .dataframe thead th {\n",
              "        text-align: right;\n",
              "    }\n",
              "</style>\n",
              "<table border=\"1\" class=\"dataframe\">\n",
              "  <thead>\n",
              "    <tr style=\"text-align: right;\">\n",
              "      <th></th>\n",
              "      <th>class</th>\n",
              "      <th>0</th>\n",
              "      <th>1</th>\n",
              "    </tr>\n",
              "  </thead>\n",
              "  <tbody>\n",
              "    <tr>\n",
              "      <th>0</th>\n",
              "      <td>1</td>\n",
              "      <td>0</td>\n",
              "      <td>2</td>\n",
              "    </tr>\n",
              "    <tr>\n",
              "      <th>1</th>\n",
              "      <td>1</td>\n",
              "      <td>0</td>\n",
              "      <td>2</td>\n",
              "    </tr>\n",
              "    <tr>\n",
              "      <th>2</th>\n",
              "      <td>1</td>\n",
              "      <td>0</td>\n",
              "      <td>2</td>\n",
              "    </tr>\n",
              "    <tr>\n",
              "      <th>3</th>\n",
              "      <td>1</td>\n",
              "      <td>0</td>\n",
              "      <td>2</td>\n",
              "    </tr>\n",
              "    <tr>\n",
              "      <th>4</th>\n",
              "      <td>1</td>\n",
              "      <td>0</td>\n",
              "      <td>2</td>\n",
              "    </tr>\n",
              "    <tr>\n",
              "      <th>...</th>\n",
              "      <td>...</td>\n",
              "      <td>...</td>\n",
              "      <td>...</td>\n",
              "    </tr>\n",
              "    <tr>\n",
              "      <th>173</th>\n",
              "      <td>3</td>\n",
              "      <td>1</td>\n",
              "      <td>1</td>\n",
              "    </tr>\n",
              "    <tr>\n",
              "      <th>174</th>\n",
              "      <td>3</td>\n",
              "      <td>1</td>\n",
              "      <td>1</td>\n",
              "    </tr>\n",
              "    <tr>\n",
              "      <th>175</th>\n",
              "      <td>3</td>\n",
              "      <td>1</td>\n",
              "      <td>1</td>\n",
              "    </tr>\n",
              "    <tr>\n",
              "      <th>176</th>\n",
              "      <td>3</td>\n",
              "      <td>1</td>\n",
              "      <td>1</td>\n",
              "    </tr>\n",
              "    <tr>\n",
              "      <th>177</th>\n",
              "      <td>3</td>\n",
              "      <td>1</td>\n",
              "      <td>1</td>\n",
              "    </tr>\n",
              "  </tbody>\n",
              "</table>\n",
              "<p>178 rows × 3 columns</p>\n",
              "</div>\n",
              "      <button class=\"colab-df-convert\" onclick=\"convertToInteractive('df-cf3c538b-e086-4ec4-ac8d-b3d26e9b98d8')\"\n",
              "              title=\"Convert this dataframe to an interactive table.\"\n",
              "              style=\"display:none;\">\n",
              "        \n",
              "  <svg xmlns=\"http://www.w3.org/2000/svg\" height=\"24px\"viewBox=\"0 0 24 24\"\n",
              "       width=\"24px\">\n",
              "    <path d=\"M0 0h24v24H0V0z\" fill=\"none\"/>\n",
              "    <path d=\"M18.56 5.44l.94 2.06.94-2.06 2.06-.94-2.06-.94-.94-2.06-.94 2.06-2.06.94zm-11 1L8.5 8.5l.94-2.06 2.06-.94-2.06-.94L8.5 2.5l-.94 2.06-2.06.94zm10 10l.94 2.06.94-2.06 2.06-.94-2.06-.94-.94-2.06-.94 2.06-2.06.94z\"/><path d=\"M17.41 7.96l-1.37-1.37c-.4-.4-.92-.59-1.43-.59-.52 0-1.04.2-1.43.59L10.3 9.45l-7.72 7.72c-.78.78-.78 2.05 0 2.83L4 21.41c.39.39.9.59 1.41.59.51 0 1.02-.2 1.41-.59l7.78-7.78 2.81-2.81c.8-.78.8-2.07 0-2.86zM5.41 20L4 18.59l7.72-7.72 1.47 1.35L5.41 20z\"/>\n",
              "  </svg>\n",
              "      </button>\n",
              "      \n",
              "  <style>\n",
              "    .colab-df-container {\n",
              "      display:flex;\n",
              "      flex-wrap:wrap;\n",
              "      gap: 12px;\n",
              "    }\n",
              "\n",
              "    .colab-df-convert {\n",
              "      background-color: #E8F0FE;\n",
              "      border: none;\n",
              "      border-radius: 50%;\n",
              "      cursor: pointer;\n",
              "      display: none;\n",
              "      fill: #1967D2;\n",
              "      height: 32px;\n",
              "      padding: 0 0 0 0;\n",
              "      width: 32px;\n",
              "    }\n",
              "\n",
              "    .colab-df-convert:hover {\n",
              "      background-color: #E2EBFA;\n",
              "      box-shadow: 0px 1px 2px rgba(60, 64, 67, 0.3), 0px 1px 3px 1px rgba(60, 64, 67, 0.15);\n",
              "      fill: #174EA6;\n",
              "    }\n",
              "\n",
              "    [theme=dark] .colab-df-convert {\n",
              "      background-color: #3B4455;\n",
              "      fill: #D2E3FC;\n",
              "    }\n",
              "\n",
              "    [theme=dark] .colab-df-convert:hover {\n",
              "      background-color: #434B5C;\n",
              "      box-shadow: 0px 1px 3px 1px rgba(0, 0, 0, 0.15);\n",
              "      filter: drop-shadow(0px 1px 2px rgba(0, 0, 0, 0.3));\n",
              "      fill: #FFFFFF;\n",
              "    }\n",
              "  </style>\n",
              "\n",
              "      <script>\n",
              "        const buttonEl =\n",
              "          document.querySelector('#df-cf3c538b-e086-4ec4-ac8d-b3d26e9b98d8 button.colab-df-convert');\n",
              "        buttonEl.style.display =\n",
              "          google.colab.kernel.accessAllowed ? 'block' : 'none';\n",
              "\n",
              "        async function convertToInteractive(key) {\n",
              "          const element = document.querySelector('#df-cf3c538b-e086-4ec4-ac8d-b3d26e9b98d8');\n",
              "          const dataTable =\n",
              "            await google.colab.kernel.invokeFunction('convertToInteractive',\n",
              "                                                     [key], {});\n",
              "          if (!dataTable) return;\n",
              "\n",
              "          const docLinkHtml = 'Like what you see? Visit the ' +\n",
              "            '<a target=\"_blank\" href=https://colab.research.google.com/notebooks/data_table.ipynb>data table notebook</a>'\n",
              "            + ' to learn more about interactive tables.';\n",
              "          element.innerHTML = '';\n",
              "          dataTable['output_type'] = 'display_data';\n",
              "          await google.colab.output.renderOutput(dataTable, element);\n",
              "          const docLink = document.createElement('div');\n",
              "          docLink.innerHTML = docLinkHtml;\n",
              "          element.appendChild(docLink);\n",
              "        }\n",
              "      </script>\n",
              "    </div>\n",
              "  </div>\n",
              "  "
            ]
          },
          "metadata": {},
          "execution_count": 31
        }
      ]
    }
  ]
}